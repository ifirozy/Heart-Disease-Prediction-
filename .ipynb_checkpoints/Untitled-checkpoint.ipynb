{
 "cells": [
  {
   "cell_type": "code",
   "execution_count": 1,
   "metadata": {},
   "outputs": [],
   "source": [
    "import numpy as np\n",
    "import pandas as pd\n",
    "import seaborn as sns\n",
    "import matplotlib.pyplot as plt\n",
    "from matplotlib import rcParams\n",
    "from sklearn import decomposition\n",
    "from sklearn.preprocessing import scale\n",
    "from sklearn.decomposition import PCA\n",
    "%matplotlib inline"
   ]
  },
  {
   "cell_type": "code",
   "execution_count": 2,
   "metadata": {},
   "outputs": [],
   "source": [
    "rw = pd.read_csv(\"datasets_33180_43520_heart.csv\")"
   ]
  },
  {
   "cell_type": "code",
   "execution_count": 3,
   "metadata": {},
   "outputs": [
    {
     "data": {
      "text/html": [
       "<div>\n",
       "<style scoped>\n",
       "    .dataframe tbody tr th:only-of-type {\n",
       "        vertical-align: middle;\n",
       "    }\n",
       "\n",
       "    .dataframe tbody tr th {\n",
       "        vertical-align: top;\n",
       "    }\n",
       "\n",
       "    .dataframe thead th {\n",
       "        text-align: right;\n",
       "    }\n",
       "</style>\n",
       "<table border=\"1\" class=\"dataframe\">\n",
       "  <thead>\n",
       "    <tr style=\"text-align: right;\">\n",
       "      <th></th>\n",
       "      <th>age</th>\n",
       "      <th>sex</th>\n",
       "      <th>cp</th>\n",
       "      <th>trestbps</th>\n",
       "      <th>chol</th>\n",
       "      <th>fbs</th>\n",
       "      <th>restecg</th>\n",
       "      <th>thalach</th>\n",
       "      <th>exang</th>\n",
       "      <th>oldpeak</th>\n",
       "      <th>slope</th>\n",
       "      <th>ca</th>\n",
       "      <th>thal</th>\n",
       "      <th>target</th>\n",
       "    </tr>\n",
       "  </thead>\n",
       "  <tbody>\n",
       "    <tr>\n",
       "      <td>0</td>\n",
       "      <td>63</td>\n",
       "      <td>1</td>\n",
       "      <td>3</td>\n",
       "      <td>145</td>\n",
       "      <td>233</td>\n",
       "      <td>1</td>\n",
       "      <td>0</td>\n",
       "      <td>150</td>\n",
       "      <td>0</td>\n",
       "      <td>2.3</td>\n",
       "      <td>0</td>\n",
       "      <td>0</td>\n",
       "      <td>1</td>\n",
       "      <td>1</td>\n",
       "    </tr>\n",
       "    <tr>\n",
       "      <td>1</td>\n",
       "      <td>37</td>\n",
       "      <td>1</td>\n",
       "      <td>2</td>\n",
       "      <td>130</td>\n",
       "      <td>250</td>\n",
       "      <td>0</td>\n",
       "      <td>1</td>\n",
       "      <td>187</td>\n",
       "      <td>0</td>\n",
       "      <td>3.5</td>\n",
       "      <td>0</td>\n",
       "      <td>0</td>\n",
       "      <td>2</td>\n",
       "      <td>1</td>\n",
       "    </tr>\n",
       "    <tr>\n",
       "      <td>2</td>\n",
       "      <td>41</td>\n",
       "      <td>0</td>\n",
       "      <td>1</td>\n",
       "      <td>130</td>\n",
       "      <td>204</td>\n",
       "      <td>0</td>\n",
       "      <td>0</td>\n",
       "      <td>172</td>\n",
       "      <td>0</td>\n",
       "      <td>1.4</td>\n",
       "      <td>2</td>\n",
       "      <td>0</td>\n",
       "      <td>2</td>\n",
       "      <td>1</td>\n",
       "    </tr>\n",
       "    <tr>\n",
       "      <td>3</td>\n",
       "      <td>56</td>\n",
       "      <td>1</td>\n",
       "      <td>1</td>\n",
       "      <td>120</td>\n",
       "      <td>236</td>\n",
       "      <td>0</td>\n",
       "      <td>1</td>\n",
       "      <td>178</td>\n",
       "      <td>0</td>\n",
       "      <td>0.8</td>\n",
       "      <td>2</td>\n",
       "      <td>0</td>\n",
       "      <td>2</td>\n",
       "      <td>1</td>\n",
       "    </tr>\n",
       "    <tr>\n",
       "      <td>4</td>\n",
       "      <td>57</td>\n",
       "      <td>0</td>\n",
       "      <td>0</td>\n",
       "      <td>120</td>\n",
       "      <td>354</td>\n",
       "      <td>0</td>\n",
       "      <td>1</td>\n",
       "      <td>163</td>\n",
       "      <td>1</td>\n",
       "      <td>0.6</td>\n",
       "      <td>2</td>\n",
       "      <td>0</td>\n",
       "      <td>2</td>\n",
       "      <td>1</td>\n",
       "    </tr>\n",
       "  </tbody>\n",
       "</table>\n",
       "</div>"
      ],
      "text/plain": [
       "   age  sex  cp  trestbps  chol  fbs  restecg  thalach  exang  oldpeak  slope  \\\n",
       "0   63    1   3       145   233    1        0      150      0      2.3      0   \n",
       "1   37    1   2       130   250    0        1      187      0      3.5      0   \n",
       "2   41    0   1       130   204    0        0      172      0      1.4      2   \n",
       "3   56    1   1       120   236    0        1      178      0      0.8      2   \n",
       "4   57    0   0       120   354    0        1      163      1      0.6      2   \n",
       "\n",
       "   ca  thal  target  \n",
       "0   0     1       1  \n",
       "1   0     2       1  \n",
       "2   0     2       1  \n",
       "3   0     2       1  \n",
       "4   0     2       1  "
      ]
     },
     "execution_count": 3,
     "metadata": {},
     "output_type": "execute_result"
    }
   ],
   "source": [
    "rw. head()"
   ]
  },
  {
   "cell_type": "code",
   "execution_count": 4,
   "metadata": {},
   "outputs": [
    {
     "name": "stdout",
     "output_type": "stream",
     "text": [
      "1    207\n",
      "0     96\n",
      "Name: sex, dtype: int64\n"
     ]
    }
   ],
   "source": [
    "print(rw['sex'].value_counts())"
   ]
  },
  {
   "cell_type": "code",
   "execution_count": 5,
   "metadata": {},
   "outputs": [
    {
     "name": "stdout",
     "output_type": "stream",
     "text": [
      "1    165\n",
      "0    138\n",
      "Name: target, dtype: int64\n"
     ]
    }
   ],
   "source": [
    "print(rw['target'].value_counts())"
   ]
  },
  {
   "cell_type": "code",
   "execution_count": 6,
   "metadata": {},
   "outputs": [
    {
     "name": "stdout",
     "output_type": "stream",
     "text": [
      "2    142\n",
      "1    140\n",
      "0     21\n",
      "Name: slope, dtype: int64\n"
     ]
    }
   ],
   "source": [
    "print(rw['slope'].value_counts())"
   ]
  },
  {
   "cell_type": "markdown",
   "metadata": {},
   "source": [
    "## understanding the data \n",
    "\n",
    "we will do correrelation "
   ]
  },
  {
   "cell_type": "code",
   "execution_count": 7,
   "metadata": {},
   "outputs": [
    {
     "data": {
      "text/plain": [
       "<matplotlib.colorbar.Colorbar at 0x2564bb47048>"
      ]
     },
     "execution_count": 7,
     "metadata": {},
     "output_type": "execute_result"
    },
    {
     "data": {
      "image/png": "[encoded data removed]",
      "text/plain": [
       "<Figure size 1008x1008 with 2 Axes>"
      ]
     },
     "metadata": {
      "needs_background": "light"
     },
     "output_type": "display_data"
    }
   ],
   "source": [
    "rcParams['figure.figsize'] = 20, 14\n",
    "plt.matshow(rw.corr())\n",
    "plt.yticks(np.arange(rw.shape[1]), rw.columns)\n",
    "plt.xticks(np.arange(rw.shape[1]), rw.columns)\n",
    "plt.colorbar()"
   ]
  },
  {
   "cell_type": "markdown",
   "metadata": {},
   "source": [
    "## Bar Plot for Target Class"
   ]
  },
  {
   "cell_type": "code",
   "execution_count": 8,
   "metadata": {},
   "outputs": [
    {
     "data": {
      "text/plain": [
       "Text(0.5, 1.0, 'Count of each Target Class')"
      ]
     },
     "execution_count": 8,
     "metadata": {},
     "output_type": "execute_result"
    },
    {
     "data": {
      "image/png": "[encoded data removed]",
      "text/plain": [
       "<Figure size 576x432 with 1 Axes>"
      ]
     },
     "metadata": {
      "needs_background": "light"
     },
     "output_type": "display_data"
    }
   ],
   "source": [
    "rcParams['figure.figsize'] = 8,6\n",
    "plt.bar(rw['target'].unique(), rw['target'].value_counts(), color = ['red', 'green'])\n",
    "plt.xticks([0, 1])\n",
    "plt.xlabel('Target Classes')\n",
    "plt.ylabel('Count')\n",
    "plt.title('Count of each Target Class')"
   ]
  },
  {
   "cell_type": "markdown",
   "metadata": {},
   "source": [
    "## check null values"
   ]
  },
  {
   "cell_type": "code",
   "execution_count": 9,
   "metadata": {},
   "outputs": [
    {
     "data": {
      "text/plain": [
       "target      0\n",
       "thal        0\n",
       "ca          0\n",
       "slope       0\n",
       "oldpeak     0\n",
       "exang       0\n",
       "thalach     0\n",
       "restecg     0\n",
       "fbs         0\n",
       "chol        0\n",
       "trestbps    0\n",
       "cp          0\n",
       "sex         0\n",
       "age         0\n",
       "dtype: int64"
      ]
     },
     "execution_count": 9,
     "metadata": {},
     "output_type": "execute_result"
    }
   ],
   "source": [
    "rw.isnull().sum().sort_values(ascending=False)"
   ]
  },
  {
   "cell_type": "markdown",
   "metadata": {},
   "source": [
    "we can see theres no null values"
   ]
  },
  {
   "cell_type": "markdown",
   "metadata": {},
   "source": [
    "## checking noise"
   ]
  },
  {
   "cell_type": "code",
   "execution_count": 10,
   "metadata": {},
   "outputs": [
    {
     "data": {
      "text/plain": [
       "([<matplotlib.axis.XTick at 0x2564beed788>,\n",
       "  <matplotlib.axis.XTick at 0x2564beed348>,\n",
       "  <matplotlib.axis.XTick at 0x2564beed048>,\n",
       "  <matplotlib.axis.XTick at 0x2564c02a048>,\n",
       "  <matplotlib.axis.XTick at 0x2564c02a148>,\n",
       "  <matplotlib.axis.XTick at 0x2564c02e2c8>,\n",
       "  <matplotlib.axis.XTick at 0x2564c02ab88>,\n",
       "  <matplotlib.axis.XTick at 0x2564c032088>,\n",
       "  <matplotlib.axis.XTick at 0x2564c032188>,\n",
       "  <matplotlib.axis.XTick at 0x2564c0352c8>,\n",
       "  <matplotlib.axis.XTick at 0x2564c039088>,\n",
       "  <matplotlib.axis.XTick at 0x2564c039048>,\n",
       "  <matplotlib.axis.XTick at 0x2564c03c488>,\n",
       "  <matplotlib.axis.XTick at 0x2564c041108>],\n",
       " <a list of 14 Text xticklabel objects>)"
      ]
     },
     "execution_count": 10,
     "metadata": {},
     "output_type": "execute_result"
    },
    {
     "data": {
      "image/png": "[encoded data removed]",
      "text/plain": [
       "<Figure size 576x432 with 1 Axes>"
      ]
     },
     "metadata": {
      "needs_background": "light"
     },
     "output_type": "display_data"
    }
   ],
   "source": [
    "rw.plot.box()\n",
    "plt.xticks(list(range(len(rw.columns))), rw.columns, rotation='vertical')"
   ]
  },
  {
   "cell_type": "markdown",
   "metadata": {},
   "source": [
    "lets remove the noise"
   ]
  },
  {
   "cell_type": "code",
   "execution_count": 11,
   "metadata": {},
   "outputs": [
    {
     "data": {
      "text/html": [
       "<div>\n",
       "<style scoped>\n",
       "    .dataframe tbody tr th:only-of-type {\n",
       "        vertical-align: middle;\n",
       "    }\n",
       "\n",
       "    .dataframe tbody tr th {\n",
       "        vertical-align: top;\n",
       "    }\n",
       "\n",
       "    .dataframe thead th {\n",
       "        text-align: right;\n",
       "    }\n",
       "</style>\n",
       "<table border=\"1\" class=\"dataframe\">\n",
       "  <thead>\n",
       "    <tr style=\"text-align: right;\">\n",
       "      <th></th>\n",
       "      <th>age</th>\n",
       "      <th>sex</th>\n",
       "      <th>cp</th>\n",
       "      <th>trestbps</th>\n",
       "      <th>chol</th>\n",
       "      <th>fbs</th>\n",
       "      <th>restecg</th>\n",
       "      <th>thalach</th>\n",
       "      <th>exang</th>\n",
       "      <th>oldpeak</th>\n",
       "      <th>slope</th>\n",
       "      <th>ca</th>\n",
       "      <th>thal</th>\n",
       "      <th>target</th>\n",
       "    </tr>\n",
       "  </thead>\n",
       "  <tbody>\n",
       "    <tr>\n",
       "      <td>count</td>\n",
       "      <td>303.000000</td>\n",
       "      <td>303.000000</td>\n",
       "      <td>303.000000</td>\n",
       "      <td>303.000000</td>\n",
       "      <td>303.000000</td>\n",
       "      <td>303.000000</td>\n",
       "      <td>303.000000</td>\n",
       "      <td>303.000000</td>\n",
       "      <td>303.000000</td>\n",
       "      <td>303.000000</td>\n",
       "      <td>303.000000</td>\n",
       "      <td>303.000000</td>\n",
       "      <td>303.000000</td>\n",
       "      <td>303.000000</td>\n",
       "    </tr>\n",
       "    <tr>\n",
       "      <td>mean</td>\n",
       "      <td>54.366337</td>\n",
       "      <td>0.683168</td>\n",
       "      <td>0.966997</td>\n",
       "      <td>131.623762</td>\n",
       "      <td>246.264026</td>\n",
       "      <td>0.148515</td>\n",
       "      <td>0.528053</td>\n",
       "      <td>149.646865</td>\n",
       "      <td>0.326733</td>\n",
       "      <td>1.039604</td>\n",
       "      <td>1.399340</td>\n",
       "      <td>0.729373</td>\n",
       "      <td>2.313531</td>\n",
       "      <td>0.544554</td>\n",
       "    </tr>\n",
       "    <tr>\n",
       "      <td>std</td>\n",
       "      <td>9.082101</td>\n",
       "      <td>0.466011</td>\n",
       "      <td>1.032052</td>\n",
       "      <td>17.538143</td>\n",
       "      <td>51.830751</td>\n",
       "      <td>0.356198</td>\n",
       "      <td>0.525860</td>\n",
       "      <td>22.905161</td>\n",
       "      <td>0.469794</td>\n",
       "      <td>1.161075</td>\n",
       "      <td>0.616226</td>\n",
       "      <td>1.022606</td>\n",
       "      <td>0.612277</td>\n",
       "      <td>0.498835</td>\n",
       "    </tr>\n",
       "    <tr>\n",
       "      <td>min</td>\n",
       "      <td>29.000000</td>\n",
       "      <td>0.000000</td>\n",
       "      <td>0.000000</td>\n",
       "      <td>94.000000</td>\n",
       "      <td>126.000000</td>\n",
       "      <td>0.000000</td>\n",
       "      <td>0.000000</td>\n",
       "      <td>71.000000</td>\n",
       "      <td>0.000000</td>\n",
       "      <td>0.000000</td>\n",
       "      <td>0.000000</td>\n",
       "      <td>0.000000</td>\n",
       "      <td>0.000000</td>\n",
       "      <td>0.000000</td>\n",
       "    </tr>\n",
       "    <tr>\n",
       "      <td>25%</td>\n",
       "      <td>47.500000</td>\n",
       "      <td>0.000000</td>\n",
       "      <td>0.000000</td>\n",
       "      <td>120.000000</td>\n",
       "      <td>211.000000</td>\n",
       "      <td>0.000000</td>\n",
       "      <td>0.000000</td>\n",
       "      <td>133.500000</td>\n",
       "      <td>0.000000</td>\n",
       "      <td>0.000000</td>\n",
       "      <td>1.000000</td>\n",
       "      <td>0.000000</td>\n",
       "      <td>2.000000</td>\n",
       "      <td>0.000000</td>\n",
       "    </tr>\n",
       "    <tr>\n",
       "      <td>50%</td>\n",
       "      <td>55.000000</td>\n",
       "      <td>1.000000</td>\n",
       "      <td>1.000000</td>\n",
       "      <td>130.000000</td>\n",
       "      <td>240.000000</td>\n",
       "      <td>0.000000</td>\n",
       "      <td>1.000000</td>\n",
       "      <td>153.000000</td>\n",
       "      <td>0.000000</td>\n",
       "      <td>0.800000</td>\n",
       "      <td>1.000000</td>\n",
       "      <td>0.000000</td>\n",
       "      <td>2.000000</td>\n",
       "      <td>1.000000</td>\n",
       "    </tr>\n",
       "    <tr>\n",
       "      <td>75%</td>\n",
       "      <td>61.000000</td>\n",
       "      <td>1.000000</td>\n",
       "      <td>2.000000</td>\n",
       "      <td>140.000000</td>\n",
       "      <td>274.500000</td>\n",
       "      <td>0.000000</td>\n",
       "      <td>1.000000</td>\n",
       "      <td>166.000000</td>\n",
       "      <td>1.000000</td>\n",
       "      <td>1.600000</td>\n",
       "      <td>2.000000</td>\n",
       "      <td>1.000000</td>\n",
       "      <td>3.000000</td>\n",
       "      <td>1.000000</td>\n",
       "    </tr>\n",
       "    <tr>\n",
       "      <td>max</td>\n",
       "      <td>77.000000</td>\n",
       "      <td>1.000000</td>\n",
       "      <td>3.000000</td>\n",
       "      <td>200.000000</td>\n",
       "      <td>564.000000</td>\n",
       "      <td>1.000000</td>\n",
       "      <td>2.000000</td>\n",
       "      <td>202.000000</td>\n",
       "      <td>1.000000</td>\n",
       "      <td>6.200000</td>\n",
       "      <td>2.000000</td>\n",
       "      <td>4.000000</td>\n",
       "      <td>3.000000</td>\n",
       "      <td>1.000000</td>\n",
       "    </tr>\n",
       "  </tbody>\n",
       "</table>\n",
       "</div>"
      ],
      "text/plain": [
       "              age         sex          cp    trestbps        chol         fbs  \\\n",
       "count  303.000000  303.000000  303.000000  303.000000  303.000000  303.000000   \n",
       "mean    54.366337    0.683168    0.966997  131.623762  246.264026    0.148515   \n",
       "std      9.082101    0.466011    1.032052   17.538143   51.830751    0.356198   \n",
       "min     29.000000    0.000000    0.000000   94.000000  126.000000    0.000000   \n",
       "25%     47.500000    0.000000    0.000000  120.000000  211.000000    0.000000   \n",
       "50%     55.000000    1.000000    1.000000  130.000000  240.000000    0.000000   \n",
       "75%     61.000000    1.000000    2.000000  140.000000  274.500000    0.000000   \n",
       "max     77.000000    1.000000    3.000000  200.000000  564.000000    1.000000   \n",
       "\n",
       "          restecg     thalach       exang     oldpeak       slope          ca  \\\n",
       "count  303.000000  303.000000  303.000000  303.000000  303.000000  303.000000   \n",
       "mean     0.528053  149.646865    0.326733    1.039604    1.399340    0.729373   \n",
       "std      0.525860   22.905161    0.469794    1.161075    0.616226    1.022606   \n",
       "min      0.000000   71.000000    0.000000    0.000000    0.000000    0.000000   \n",
       "25%      0.000000  133.500000    0.000000    0.000000    1.000000    0.000000   \n",
       "50%      1.000000  153.000000    0.000000    0.800000    1.000000    0.000000   \n",
       "75%      1.000000  166.000000    1.000000    1.600000    2.000000    1.000000   \n",
       "max      2.000000  202.000000    1.000000    6.200000    2.000000    4.000000   \n",
       "\n",
       "             thal      target  \n",
       "count  303.000000  303.000000  \n",
       "mean     2.313531    0.544554  \n",
       "std      0.612277    0.498835  \n",
       "min      0.000000    0.000000  \n",
       "25%      2.000000    0.000000  \n",
       "50%      2.000000    1.000000  \n",
       "75%      3.000000    1.000000  \n",
       "max      3.000000    1.000000  "
      ]
     },
     "execution_count": 11,
     "metadata": {},
     "output_type": "execute_result"
    }
   ],
   "source": [
    "rw.describe()"
   ]
  },
  {
   "cell_type": "markdown",
   "metadata": {},
   "source": [
    "## data normalization"
   ]
  },
  {
   "cell_type": "code",
   "execution_count": 12,
   "metadata": {},
   "outputs": [],
   "source": [
    "x = rw\n",
    "x = x.dropna()\n",
    "y = x['target']\n",
    "x = x.drop(['target'],axis=1)"
   ]
  },
  {
   "cell_type": "code",
   "execution_count": 13,
   "metadata": {},
   "outputs": [
    {
     "data": {
      "text/plain": [
       "0    1\n",
       "1    1\n",
       "2    1\n",
       "3    1\n",
       "4    1\n",
       "Name: target, dtype: int64"
      ]
     },
     "execution_count": 13,
     "metadata": {},
     "output_type": "execute_result"
    }
   ],
   "source": [
    "y.head(5)"
   ]
  },
  {
   "cell_type": "code",
   "execution_count": 14,
   "metadata": {},
   "outputs": [
    {
     "data": {
      "text/html": [
       "<div>\n",
       "<style scoped>\n",
       "    .dataframe tbody tr th:only-of-type {\n",
       "        vertical-align: middle;\n",
       "    }\n",
       "\n",
       "    .dataframe tbody tr th {\n",
       "        vertical-align: top;\n",
       "    }\n",
       "\n",
       "    .dataframe thead th {\n",
       "        text-align: right;\n",
       "    }\n",
       "</style>\n",
       "<table border=\"1\" class=\"dataframe\">\n",
       "  <thead>\n",
       "    <tr style=\"text-align: right;\">\n",
       "      <th></th>\n",
       "      <th>age</th>\n",
       "      <th>sex</th>\n",
       "      <th>cp</th>\n",
       "      <th>trestbps</th>\n",
       "      <th>chol</th>\n",
       "      <th>fbs</th>\n",
       "      <th>restecg</th>\n",
       "      <th>thalach</th>\n",
       "      <th>exang</th>\n",
       "      <th>oldpeak</th>\n",
       "      <th>slope</th>\n",
       "      <th>ca</th>\n",
       "      <th>thal</th>\n",
       "    </tr>\n",
       "  </thead>\n",
       "  <tbody>\n",
       "    <tr>\n",
       "      <td>0</td>\n",
       "      <td>63</td>\n",
       "      <td>1</td>\n",
       "      <td>3</td>\n",
       "      <td>145</td>\n",
       "      <td>233</td>\n",
       "      <td>1</td>\n",
       "      <td>0</td>\n",
       "      <td>150</td>\n",
       "      <td>0</td>\n",
       "      <td>2.3</td>\n",
       "      <td>0</td>\n",
       "      <td>0</td>\n",
       "      <td>1</td>\n",
       "    </tr>\n",
       "    <tr>\n",
       "      <td>1</td>\n",
       "      <td>37</td>\n",
       "      <td>1</td>\n",
       "      <td>2</td>\n",
       "      <td>130</td>\n",
       "      <td>250</td>\n",
       "      <td>0</td>\n",
       "      <td>1</td>\n",
       "      <td>187</td>\n",
       "      <td>0</td>\n",
       "      <td>3.5</td>\n",
       "      <td>0</td>\n",
       "      <td>0</td>\n",
       "      <td>2</td>\n",
       "    </tr>\n",
       "    <tr>\n",
       "      <td>2</td>\n",
       "      <td>41</td>\n",
       "      <td>0</td>\n",
       "      <td>1</td>\n",
       "      <td>130</td>\n",
       "      <td>204</td>\n",
       "      <td>0</td>\n",
       "      <td>0</td>\n",
       "      <td>172</td>\n",
       "      <td>0</td>\n",
       "      <td>1.4</td>\n",
       "      <td>2</td>\n",
       "      <td>0</td>\n",
       "      <td>2</td>\n",
       "    </tr>\n",
       "    <tr>\n",
       "      <td>3</td>\n",
       "      <td>56</td>\n",
       "      <td>1</td>\n",
       "      <td>1</td>\n",
       "      <td>120</td>\n",
       "      <td>236</td>\n",
       "      <td>0</td>\n",
       "      <td>1</td>\n",
       "      <td>178</td>\n",
       "      <td>0</td>\n",
       "      <td>0.8</td>\n",
       "      <td>2</td>\n",
       "      <td>0</td>\n",
       "      <td>2</td>\n",
       "    </tr>\n",
       "    <tr>\n",
       "      <td>4</td>\n",
       "      <td>57</td>\n",
       "      <td>0</td>\n",
       "      <td>0</td>\n",
       "      <td>120</td>\n",
       "      <td>354</td>\n",
       "      <td>0</td>\n",
       "      <td>1</td>\n",
       "      <td>163</td>\n",
       "      <td>1</td>\n",
       "      <td>0.6</td>\n",
       "      <td>2</td>\n",
       "      <td>0</td>\n",
       "      <td>2</td>\n",
       "    </tr>\n",
       "  </tbody>\n",
       "</table>\n",
       "</div>"
      ],
      "text/plain": [
       "   age  sex  cp  trestbps  chol  fbs  restecg  thalach  exang  oldpeak  slope  \\\n",
       "0   63    1   3       145   233    1        0      150      0      2.3      0   \n",
       "1   37    1   2       130   250    0        1      187      0      3.5      0   \n",
       "2   41    0   1       130   204    0        0      172      0      1.4      2   \n",
       "3   56    1   1       120   236    0        1      178      0      0.8      2   \n",
       "4   57    0   0       120   354    0        1      163      1      0.6      2   \n",
       "\n",
       "   ca  thal  \n",
       "0   0     1  \n",
       "1   0     2  \n",
       "2   0     2  \n",
       "3   0     2  \n",
       "4   0     2  "
      ]
     },
     "execution_count": 14,
     "metadata": {},
     "output_type": "execute_result"
    }
   ],
   "source": [
    "x.head()"
   ]
  },
  {
   "cell_type": "code",
   "execution_count": 15,
   "metadata": {},
   "outputs": [],
   "source": [
    "def plot_histogram_dv(x,y):\n",
    "    plt.hist(list(x[y==0]), alpha=0.5, label='Outcome=0')\n",
    "    plt.hist(list(x[y==1]), alpha=0.5, label='Outcome=1')\n",
    "    plt.title(\"Histogram of '{var_name}' by Outcome Category\".format(var_name=x.name))\n",
    "    plt.xlabel(\"value\")\n",
    "    plt.ylabel(\"Frequency\")\n",
    "    plt.legend(loc='upper right')\n",
    "    plt.show()"
   ]
  },
  {
   "cell_type": "code",
   "execution_count": 16,
   "metadata": {},
   "outputs": [
    {
     "data": {
      "image/png": "[encoded data removed]",
      "text/plain": [
       "<Figure size 576x432 with 1 Axes>"
      ]
     },
     "metadata": {
      "needs_background": "light"
     },
     "output_type": "display_data"
    }
   ],
   "source": [
    "plot_histogram_dv(x['age'], y)"
   ]
  },
  {
   "cell_type": "code",
   "execution_count": 17,
   "metadata": {},
   "outputs": [],
   "source": [
    "from sklearn.preprocessing import normalize\n",
    "\n",
    "norx = normalize(x)"
   ]
  },
  {
   "cell_type": "code",
   "execution_count": 18,
   "metadata": {},
   "outputs": [
    {
     "data": {
      "text/plain": [
       "array([[0.19745405, 0.00313419, 0.00940257, ..., 0.        , 0.        ,\n",
       "        0.00313419],\n",
       "       [0.10874818, 0.00293914, 0.00587828, ..., 0.        , 0.        ,\n",
       "        0.00587828],\n",
       "       [0.1368249 , 0.        , 0.00333719, ..., 0.00667439, 0.        ,\n",
       "        0.00667439],\n",
       "       ...,\n",
       "       [0.23671899, 0.00348116, 0.        , ..., 0.00348116, 0.00696232,\n",
       "        0.01044348],\n",
       "       [0.25352009, 0.00444772, 0.        , ..., 0.00444772, 0.00444772,\n",
       "        0.01334316],\n",
       "       [0.1749685 , 0.        , 0.00306962, ..., 0.00306962, 0.00306962,\n",
       "        0.00613925]])"
      ]
     },
     "execution_count": 18,
     "metadata": {},
     "output_type": "execute_result"
    }
   ],
   "source": [
    "norx"
   ]
  },
  {
   "cell_type": "markdown",
   "metadata": {},
   "source": [
    "## check accuracy before pca "
   ]
  },
  {
   "cell_type": "markdown",
   "metadata": {},
   "source": [
    "Train Test Split"
   ]
  },
  {
   "cell_type": "code",
   "execution_count": 19,
   "metadata": {},
   "outputs": [],
   "source": [
    "from sklearn.model_selection import train_test_split\n",
    "X_train, X_test, y_train, y_test = train_test_split(\n",
    "norx, y, test_size=0.2, random_state=164)"
   ]
  },
  {
   "cell_type": "code",
   "execution_count": 20,
   "metadata": {},
   "outputs": [
    {
     "name": "stdout",
     "output_type": "stream",
     "text": [
      "(303, 14)\n",
      "(303, 13)\n"
     ]
    }
   ],
   "source": [
    "#after preprocessing\n",
    "print(rw.shape)\n",
    "print(norx.shape)"
   ]
  },
  {
   "cell_type": "markdown",
   "metadata": {},
   "source": [
    "## Accuracy check, Classification Report, Confussion Matrix\n",
    "KNN"
   ]
  },
  {
   "cell_type": "code",
   "execution_count": 21,
   "metadata": {},
   "outputs": [
    {
     "data": {
      "text/plain": [
       "0.6065573770491803"
      ]
     },
     "execution_count": 21,
     "metadata": {},
     "output_type": "execute_result"
    }
   ],
   "source": [
    "from sklearn.neighbors import KNeighborsClassifier\n",
    "knn = KNeighborsClassifier(n_neighbors=1)\n",
    "knn.fit(X_train,y_train)\n",
    "knn.score(X_test,y_test)"
   ]
  },
  {
   "cell_type": "markdown",
   "metadata": {},
   "source": [
    "Logistic Regression"
   ]
  },
  {
   "cell_type": "code",
   "execution_count": 46,
   "metadata": {},
   "outputs": [
    {
     "data": {
      "text/plain": [
       "0.32786885245901637"
      ]
     },
     "execution_count": 46,
     "metadata": {},
     "output_type": "execute_result"
    }
   ],
   "source": [
    "from sklearn.linear_model import LogisticRegression\n",
    "logre = LogisticRegression(random_state=8, solver='lbfgs',multi_class='multinomial')\n",
    "logre.fit(X_train,y_train)\n",
    "logre.score(X_test,y_test)"
   ]
  },
  {
   "cell_type": "markdown",
   "metadata": {},
   "source": [
    "svm"
   ]
  },
  {
   "cell_type": "code",
   "execution_count": 23,
   "metadata": {},
   "outputs": [
    {
     "data": {
      "text/plain": [
       "0.6065573770491803"
      ]
     },
     "execution_count": 23,
     "metadata": {},
     "output_type": "execute_result"
    }
   ],
   "source": [
    "from sklearn import svm\n",
    "sv = svm.SVC(gamma='scale')\n",
    "sv.fit(X_train, y_train)\n",
    "sv.score(X_test, y_test)"
   ]
  },
  {
   "cell_type": "markdown",
   "metadata": {},
   "source": [
    "decision tree"
   ]
  },
  {
   "cell_type": "code",
   "execution_count": 24,
   "metadata": {},
   "outputs": [
    {
     "data": {
      "text/plain": [
       "0.7868852459016393"
      ]
     },
     "execution_count": 24,
     "metadata": {},
     "output_type": "execute_result"
    }
   ],
   "source": [
    "from sklearn import tree\n",
    "dest = tree.DecisionTreeClassifier()\n",
    "dest=dest.fit(X_train, y_train)\n",
    "dest.score(X_test, y_test)"
   ]
  },
  {
   "cell_type": "code",
   "execution_count": 25,
   "metadata": {},
   "outputs": [
    {
     "data": {
      "text/plain": [
       "[Text(227.84999999999997, 311.3345454545455, 'X[2] <= 0.5\\ngini = 0.496\\nsamples = 303\\nvalue = [138, 165]'),\n",
       " Text(117.79999999999998, 281.68363636363637, 'X[11] <= 0.5\\ngini = 0.397\\nsamples = 143\\nvalue = [104, 39]'),\n",
       " Text(74.39999999999999, 252.0327272727273, 'X[12] <= 2.5\\ngini = 0.499\\nsamples = 65\\nvalue = [31, 34]'),\n",
       " Text(41.33333333333333, 222.3818181818182, 'X[8] <= 0.5\\ngini = 0.361\\nsamples = 38\\nvalue = [9, 29]'),\n",
       " Text(16.53333333333333, 192.7309090909091, 'X[7] <= 96.5\\ngini = 0.153\\nsamples = 24\\nvalue = [2, 22]'),\n",
       " Text(8.266666666666666, 163.08, 'gini = 0.0\\nsamples = 1\\nvalue = [1, 0]'),\n",
       " Text(24.799999999999997, 163.08, 'X[4] <= 316.5\\ngini = 0.083\\nsamples = 23\\nvalue = [1, 22]'),\n",
       " Text(16.53333333333333, 133.42909090909092, 'gini = 0.0\\nsamples = 21\\nvalue = [0, 21]'),\n",
       " Text(33.06666666666666, 133.42909090909092, 'X[10] <= 1.5\\ngini = 0.5\\nsamples = 2\\nvalue = [1, 1]'),\n",
       " Text(24.799999999999997, 103.77818181818182, 'gini = 0.0\\nsamples = 1\\nvalue = [0, 1]'),\n",
       " Text(41.33333333333333, 103.77818181818182, 'gini = 0.0\\nsamples = 1\\nvalue = [1, 0]'),\n",
       " Text(66.13333333333333, 192.7309090909091, 'X[6] <= 0.5\\ngini = 0.5\\nsamples = 14\\nvalue = [7, 7]'),\n",
       " Text(57.86666666666666, 163.08, 'gini = 0.0\\nsamples = 4\\nvalue = [0, 4]'),\n",
       " Text(74.39999999999999, 163.08, 'X[10] <= 1.5\\ngini = 0.42\\nsamples = 10\\nvalue = [7, 3]'),\n",
       " Text(66.13333333333333, 133.42909090909092, 'X[3] <= 115.0\\ngini = 0.219\\nsamples = 8\\nvalue = [7, 1]'),\n",
       " Text(57.86666666666666, 103.77818181818182, 'gini = 0.0\\nsamples = 1\\nvalue = [0, 1]'),\n",
       " Text(74.39999999999999, 103.77818181818182, 'gini = 0.0\\nsamples = 7\\nvalue = [7, 0]'),\n",
       " Text(82.66666666666666, 133.42909090909092, 'gini = 0.0\\nsamples = 2\\nvalue = [0, 2]'),\n",
       " Text(107.46666666666665, 222.3818181818182, 'X[9] <= 0.65\\ngini = 0.302\\nsamples = 27\\nvalue = [22, 5]'),\n",
       " Text(99.19999999999999, 192.7309090909091, 'X[0] <= 42.0\\ngini = 0.5\\nsamples = 10\\nvalue = [5, 5]'),\n",
       " Text(90.93333333333332, 163.08, 'gini = 0.0\\nsamples = 3\\nvalue = [3, 0]'),\n",
       " Text(107.46666666666665, 163.08, 'X[4] <= 237.5\\ngini = 0.408\\nsamples = 7\\nvalue = [2, 5]'),\n",
       " Text(99.19999999999999, 133.42909090909092, 'gini = 0.0\\nsamples = 5\\nvalue = [0, 5]'),\n",
       " Text(115.73333333333332, 133.42909090909092, 'gini = 0.0\\nsamples = 2\\nvalue = [2, 0]'),\n",
       " Text(115.73333333333332, 192.7309090909091, 'gini = 0.0\\nsamples = 17\\nvalue = [17, 0]'),\n",
       " Text(161.2, 252.0327272727273, 'X[3] <= 109.0\\ngini = 0.12\\nsamples = 78\\nvalue = [73, 5]'),\n",
       " Text(140.5333333333333, 222.3818181818182, 'X[4] <= 233.5\\ngini = 0.48\\nsamples = 5\\nvalue = [3, 2]'),\n",
       " Text(132.26666666666665, 192.7309090909091, 'gini = 0.0\\nsamples = 2\\nvalue = [0, 2]'),\n",
       " Text(148.79999999999998, 192.7309090909091, 'gini = 0.0\\nsamples = 3\\nvalue = [3, 0]'),\n",
       " Text(181.86666666666665, 222.3818181818182, 'X[4] <= 301.5\\ngini = 0.079\\nsamples = 73\\nvalue = [70, 3]'),\n",
       " Text(165.33333333333331, 192.7309090909091, 'X[7] <= 105.5\\ngini = 0.032\\nsamples = 61\\nvalue = [60, 1]'),\n",
       " Text(157.06666666666666, 163.08, 'X[9] <= 0.6\\ngini = 0.219\\nsamples = 8\\nvalue = [7, 1]'),\n",
       " Text(148.79999999999998, 133.42909090909092, 'gini = 0.0\\nsamples = 1\\nvalue = [0, 1]'),\n",
       " Text(165.33333333333331, 133.42909090909092, 'gini = 0.0\\nsamples = 7\\nvalue = [7, 0]'),\n",
       " Text(173.59999999999997, 163.08, 'gini = 0.0\\nsamples = 53\\nvalue = [53, 0]'),\n",
       " Text(198.39999999999998, 192.7309090909091, 'X[4] <= 303.5\\ngini = 0.278\\nsamples = 12\\nvalue = [10, 2]'),\n",
       " Text(190.13333333333333, 163.08, 'gini = 0.0\\nsamples = 2\\nvalue = [0, 2]'),\n",
       " Text(206.66666666666663, 163.08, 'gini = 0.0\\nsamples = 10\\nvalue = [10, 0]'),\n",
       " Text(337.9, 281.68363636363637, 'X[12] <= 2.5\\ngini = 0.335\\nsamples = 160\\nvalue = [34, 126]'),\n",
       " Text(283.1333333333333, 252.0327272727273, 'X[0] <= 55.5\\ngini = 0.229\\nsamples = 121\\nvalue = [16, 105]'),\n",
       " Text(247.99999999999997, 222.3818181818182, 'X[9] <= 3.55\\ngini = 0.076\\nsamples = 76\\nvalue = [3, 73]'),\n",
       " Text(239.7333333333333, 192.7309090909091, 'X[4] <= 153.0\\ngini = 0.052\\nsamples = 75\\nvalue = [2, 73]'),\n",
       " Text(223.2, 163.08, 'X[4] <= 145.0\\ngini = 0.5\\nsamples = 2\\nvalue = [1, 1]'),\n",
       " Text(214.9333333333333, 133.42909090909092, 'gini = 0.0\\nsamples = 1\\nvalue = [0, 1]'),\n",
       " Text(231.46666666666664, 133.42909090909092, 'gini = 0.0\\nsamples = 1\\nvalue = [1, 0]'),\n",
       " Text(256.26666666666665, 163.08, 'X[3] <= 109.0\\ngini = 0.027\\nsamples = 73\\nvalue = [1, 72]'),\n",
       " Text(247.99999999999997, 133.42909090909092, 'X[4] <= 232.5\\ngini = 0.278\\nsamples = 6\\nvalue = [1, 5]'),\n",
       " Text(239.7333333333333, 103.77818181818182, 'gini = 0.0\\nsamples = 4\\nvalue = [0, 4]'),\n",
       " Text(256.26666666666665, 103.77818181818182, 'X[1] <= 0.5\\ngini = 0.5\\nsamples = 2\\nvalue = [1, 1]'),\n",
       " Text(247.99999999999997, 74.12727272727275, 'gini = 0.0\\nsamples = 1\\nvalue = [0, 1]'),\n",
       " Text(264.5333333333333, 74.12727272727275, 'gini = 0.0\\nsamples = 1\\nvalue = [1, 0]'),\n",
       " Text(264.5333333333333, 133.42909090909092, 'gini = 0.0\\nsamples = 67\\nvalue = [0, 67]'),\n",
       " Text(256.26666666666665, 192.7309090909091, 'gini = 0.0\\nsamples = 1\\nvalue = [1, 0]'),\n",
       " Text(318.26666666666665, 222.3818181818182, 'X[1] <= 0.5\\ngini = 0.411\\nsamples = 45\\nvalue = [13, 32]'),\n",
       " Text(297.59999999999997, 192.7309090909091, 'X[0] <= 59.0\\ngini = 0.165\\nsamples = 22\\nvalue = [2, 20]'),\n",
       " Text(289.3333333333333, 163.08, 'X[11] <= 0.5\\ngini = 0.48\\nsamples = 5\\nvalue = [2, 3]'),\n",
       " Text(281.0666666666666, 133.42909090909092, 'gini = 0.0\\nsamples = 3\\nvalue = [0, 3]'),\n",
       " Text(297.59999999999997, 133.42909090909092, 'gini = 0.0\\nsamples = 2\\nvalue = [2, 0]'),\n",
       " Text(305.8666666666666, 163.08, 'gini = 0.0\\nsamples = 17\\nvalue = [0, 17]'),\n",
       " Text(338.9333333333333, 192.7309090909091, 'X[4] <= 245.5\\ngini = 0.499\\nsamples = 23\\nvalue = [11, 12]'),\n",
       " Text(330.66666666666663, 163.08, 'X[11] <= 0.5\\ngini = 0.415\\nsamples = 17\\nvalue = [5, 12]'),\n",
       " Text(314.1333333333333, 133.42909090909092, 'X[9] <= 2.65\\ngini = 0.153\\nsamples = 12\\nvalue = [1, 11]'),\n",
       " Text(305.8666666666666, 103.77818181818182, 'gini = 0.0\\nsamples = 11\\nvalue = [0, 11]'),\n",
       " Text(322.4, 103.77818181818182, 'gini = 0.0\\nsamples = 1\\nvalue = [1, 0]'),\n",
       " Text(347.19999999999993, 133.42909090909092, 'X[7] <= 132.5\\ngini = 0.32\\nsamples = 5\\nvalue = [4, 1]'),\n",
       " Text(338.9333333333333, 103.77818181818182, 'gini = 0.0\\nsamples = 1\\nvalue = [0, 1]'),\n",
       " Text(355.46666666666664, 103.77818181818182, 'gini = 0.0\\nsamples = 4\\nvalue = [4, 0]'),\n",
       " Text(347.19999999999993, 163.08, 'gini = 0.0\\nsamples = 6\\nvalue = [6, 0]'),\n",
       " Text(392.66666666666663, 252.0327272727273, 'X[7] <= 142.5\\ngini = 0.497\\nsamples = 39\\nvalue = [18, 21]'),\n",
       " Text(371.99999999999994, 222.3818181818182, 'X[4] <= 311.0\\ngini = 0.219\\nsamples = 8\\nvalue = [7, 1]'),\n",
       " Text(363.7333333333333, 192.7309090909091, 'gini = 0.0\\nsamples = 7\\nvalue = [7, 0]'),\n",
       " Text(380.26666666666665, 192.7309090909091, 'gini = 0.0\\nsamples = 1\\nvalue = [0, 1]'),\n",
       " Text(413.33333333333326, 222.3818181818182, 'X[9] <= 1.95\\ngini = 0.458\\nsamples = 31\\nvalue = [11, 20]'),\n",
       " Text(396.79999999999995, 192.7309090909091, 'X[3] <= 176.0\\ngini = 0.393\\nsamples = 26\\nvalue = [7, 19]'),\n",
       " Text(388.5333333333333, 163.08, 'X[10] <= 1.5\\ngini = 0.33\\nsamples = 24\\nvalue = [5, 19]'),\n",
       " Text(380.26666666666665, 133.42909090909092, 'X[9] <= 1.1\\ngini = 0.459\\nsamples = 14\\nvalue = [5, 9]'),\n",
       " Text(371.99999999999994, 103.77818181818182, 'X[3] <= 126.5\\ngini = 0.5\\nsamples = 10\\nvalue = [5, 5]'),\n",
       " Text(355.46666666666664, 74.12727272727275, 'X[9] <= 0.9\\ngini = 0.32\\nsamples = 5\\nvalue = [1, 4]'),\n",
       " Text(347.19999999999993, 44.47636363636366, 'gini = 0.0\\nsamples = 4\\nvalue = [0, 4]'),\n",
       " Text(363.7333333333333, 44.47636363636366, 'gini = 0.0\\nsamples = 1\\nvalue = [1, 0]'),\n",
       " Text(388.5333333333333, 74.12727272727275, 'X[0] <= 61.5\\ngini = 0.32\\nsamples = 5\\nvalue = [4, 1]'),\n",
       " Text(380.26666666666665, 44.47636363636366, 'gini = 0.0\\nsamples = 3\\nvalue = [3, 0]'),\n",
       " Text(396.79999999999995, 44.47636363636366, 'X[2] <= 2.5\\ngini = 0.5\\nsamples = 2\\nvalue = [1, 1]'),\n",
       " Text(388.5333333333333, 14.825454545454534, 'gini = 0.0\\nsamples = 1\\nvalue = [1, 0]'),\n",
       " Text(405.0666666666666, 14.825454545454534, 'gini = 0.0\\nsamples = 1\\nvalue = [0, 1]'),\n",
       " Text(388.5333333333333, 103.77818181818182, 'gini = 0.0\\nsamples = 4\\nvalue = [0, 4]'),\n",
       " Text(396.79999999999995, 133.42909090909092, 'gini = 0.0\\nsamples = 10\\nvalue = [0, 10]'),\n",
       " Text(405.0666666666666, 163.08, 'gini = 0.0\\nsamples = 2\\nvalue = [2, 0]'),\n",
       " Text(429.8666666666666, 192.7309090909091, 'X[9] <= 4.0\\ngini = 0.32\\nsamples = 5\\nvalue = [4, 1]'),\n",
       " Text(421.59999999999997, 163.08, 'gini = 0.0\\nsamples = 4\\nvalue = [4, 0]'),\n",
       " Text(438.13333333333327, 163.08, 'gini = 0.0\\nsamples = 1\\nvalue = [0, 1]')]"
      ]
     },
     "execution_count": 25,
     "metadata": {},
     "output_type": "execute_result"
    },
    {
     "data": {
      "image/png": "[encoded data removed]",
      "text/plain": [
       "<Figure size 576x432 with 1 Axes>"
      ]
     },
     "metadata": {
      "needs_background": "light"
     },
     "output_type": "display_data"
    }
   ],
   "source": [
    "tree.plot_tree(dest.fit(x,y))"
   ]
  },
  {
   "cell_type": "markdown",
   "metadata": {},
   "source": [
    "mlp ann"
   ]
  },
  {
   "cell_type": "code",
   "execution_count": 26,
   "metadata": {},
   "outputs": [
    {
     "data": {
      "text/plain": [
       "0.5737704918032787"
      ]
     },
     "execution_count": 26,
     "metadata": {},
     "output_type": "execute_result"
    }
   ],
   "source": [
    "from sklearn.neural_network import MLPClassifier\n",
    "anna = MLPClassifier(solver='lbfgs', alpha=1e-5,\n",
    "hidden_layer_sizes=(5, 2), random_state=94)\n",
    "anna.fit(X_train, y_train)\n",
    "anna.score(X_test, y_test)"
   ]
  },
  {
   "cell_type": "markdown",
   "metadata": {},
   "source": [
    "random tree"
   ]
  },
  {
   "cell_type": "code",
   "execution_count": 27,
   "metadata": {},
   "outputs": [
    {
     "data": {
      "text/plain": [
       "0.4098360655737705"
      ]
     },
     "execution_count": 27,
     "metadata": {},
     "output_type": "execute_result"
    }
   ],
   "source": [
    "from sklearn.ensemble import RandomForestClassifier\n",
    "from sklearn.datasets import make_classification\n",
    "\n",
    "X_train, y_train = make_classification(n_samples=1000, n_features=13,n_informative=2, n_redundant=0,\n",
    "random_state=18, shuffle=False)\n",
    "\n",
    "rf = RandomForestClassifier(n_estimators=100, max_depth=2,\n",
    "random_state=0)\n",
    "\n",
    "rf.fit(X_train, y_train)\n",
    "rf.score(X_test, y_test)"
   ]
  },
  {
   "cell_type": "markdown",
   "metadata": {},
   "source": [
    "perform PCA"
   ]
  },
  {
   "cell_type": "code",
   "execution_count": 28,
   "metadata": {},
   "outputs": [
    {
     "data": {
      "text/plain": [
       "array([[ 0.9521966 ,  0.68100522,  1.97312292, ..., -2.27457861,\n",
       "        -0.71442887, -2.14887271],\n",
       "       [-1.91531289,  0.68100522,  1.00257707, ..., -2.27457861,\n",
       "        -0.71442887, -0.51292188],\n",
       "       [-1.47415758, -1.46841752,  0.03203122, ...,  0.97635214,\n",
       "        -0.71442887, -0.51292188],\n",
       "       ...,\n",
       "       [ 1.50364073,  0.68100522, -0.93851463, ..., -0.64911323,\n",
       "         1.24459328,  1.12302895],\n",
       "       [ 0.29046364,  0.68100522, -0.93851463, ..., -0.64911323,\n",
       "         0.26508221,  1.12302895],\n",
       "       [ 0.29046364, -1.46841752,  0.03203122, ..., -0.64911323,\n",
       "         0.26508221, -0.51292188]])"
      ]
     },
     "execution_count": 28,
     "metadata": {},
     "output_type": "execute_result"
    }
   ],
   "source": [
    "#standardize the data set\n",
    "sx = x.values #convert the data into a numpy array\n",
    "sx = scale(sx);sx"
   ]
  },
  {
   "cell_type": "code",
   "execution_count": 29,
   "metadata": {},
   "outputs": [],
   "source": [
    "#covariance matrix\n",
    "covar_matrix = PCA(n_components = 13) #we have 13 features"
   ]
  },
  {
   "cell_type": "code",
   "execution_count": 30,
   "metadata": {},
   "outputs": [
    {
     "data": {
      "text/plain": [
       "array([ 21.3,  33.1,  42.5,  51.6,  59.5,  67. ,  73.6,  79.6,  85.1,\n",
       "        89.9,  94. ,  97.3, 100.2])"
      ]
     },
     "execution_count": 30,
     "metadata": {},
     "output_type": "execute_result"
    }
   ],
   "source": [
    "covar_matrix.fit(sx)\n",
    "variance = covar_matrix.explained_variance_ratio_ #calculate variance ratios\n",
    "\n",
    "var=np.cumsum(np.round(covar_matrix.explained_variance_ratio_, decimals=3)*100)\n",
    "var #cumulative sum of variance explained with [n] features"
   ]
  },
  {
   "cell_type": "code",
   "execution_count": 31,
   "metadata": {},
   "outputs": [
    {
     "data": {
      "text/plain": [
       "[<matplotlib.lines.Line2D at 0x2564c82e4c8>]"
      ]
     },
     "execution_count": 31,
     "metadata": {},
     "output_type": "execute_result"
    },
    {
     "data": {
      "image/png": "[encoded data removed]",
      "text/plain": [
       "<Figure size 576x432 with 1 Axes>"
      ]
     },
     "metadata": {},
     "output_type": "display_data"
    }
   ],
   "source": [
    "sns.set(style=\"whitegrid\")\n",
    "\n",
    "plt.ylabel('% Variance Explained')\n",
    "plt.xlabel('Number of Features')\n",
    "plt.title('Scree PCA Analysis')\n",
    "plt.ylim(15,105)\n",
    "plt.style.context('seaborn-whitegrid')\n",
    "\n",
    "\n",
    "plt.plot(var)"
   ]
  },
  {
   "cell_type": "markdown",
   "metadata": {},
   "source": [
    "Here, we should pick up 9 components , bqz we use 90% threshold."
   ]
  },
  {
   "cell_type": "code",
   "execution_count": 32,
   "metadata": {},
   "outputs": [],
   "source": [
    "from sklearn.decomposition import PCA\n",
    "\n",
    "pca = PCA(n_components=9)\n",
    "xpca = pca.fit_transform(x)"
   ]
  },
  {
   "cell_type": "code",
   "execution_count": 33,
   "metadata": {},
   "outputs": [
    {
     "data": {
      "text/html": [
       "<div>\n",
       "<style scoped>\n",
       "    .dataframe tbody tr th:only-of-type {\n",
       "        vertical-align: middle;\n",
       "    }\n",
       "\n",
       "    .dataframe tbody tr th {\n",
       "        vertical-align: top;\n",
       "    }\n",
       "\n",
       "    .dataframe thead th {\n",
       "        text-align: right;\n",
       "    }\n",
       "</style>\n",
       "<table border=\"1\" class=\"dataframe\">\n",
       "  <thead>\n",
       "    <tr style=\"text-align: right;\">\n",
       "      <th></th>\n",
       "      <th>PC1</th>\n",
       "      <th>PC2</th>\n",
       "      <th>PC3</th>\n",
       "      <th>PC4</th>\n",
       "      <th>PC5</th>\n",
       "      <th>PC6</th>\n",
       "      <th>PC7</th>\n",
       "      <th>PC8</th>\n",
       "      <th>PC9</th>\n",
       "      <th>Cluster</th>\n",
       "    </tr>\n",
       "  </thead>\n",
       "  <tbody>\n",
       "    <tr>\n",
       "      <td>0</td>\n",
       "      <td>-12.267345</td>\n",
       "      <td>2.873838</td>\n",
       "      <td>14.969879</td>\n",
       "      <td>6.892940</td>\n",
       "      <td>-0.072468</td>\n",
       "      <td>2.664652</td>\n",
       "      <td>0.268713</td>\n",
       "      <td>1.084704</td>\n",
       "      <td>-0.924199</td>\n",
       "      <td>1</td>\n",
       "    </tr>\n",
       "    <tr>\n",
       "      <td>1</td>\n",
       "      <td>2.690137</td>\n",
       "      <td>-39.871374</td>\n",
       "      <td>0.877882</td>\n",
       "      <td>-10.583598</td>\n",
       "      <td>2.598773</td>\n",
       "      <td>2.460497</td>\n",
       "      <td>-0.207808</td>\n",
       "      <td>0.519390</td>\n",
       "      <td>0.194345</td>\n",
       "      <td>1</td>\n",
       "    </tr>\n",
       "    <tr>\n",
       "      <td>2</td>\n",
       "      <td>-42.950214</td>\n",
       "      <td>-23.636820</td>\n",
       "      <td>1.759446</td>\n",
       "      <td>-7.786655</td>\n",
       "      <td>0.436244</td>\n",
       "      <td>0.296905</td>\n",
       "      <td>-0.437425</td>\n",
       "      <td>0.514733</td>\n",
       "      <td>-0.210274</td>\n",
       "      <td>1</td>\n",
       "    </tr>\n",
       "    <tr>\n",
       "      <td>3</td>\n",
       "      <td>-10.944756</td>\n",
       "      <td>-28.438036</td>\n",
       "      <td>-7.044180</td>\n",
       "      <td>8.328134</td>\n",
       "      <td>0.076565</td>\n",
       "      <td>0.135460</td>\n",
       "      <td>-0.677191</td>\n",
       "      <td>0.074112</td>\n",
       "      <td>0.431605</td>\n",
       "      <td>1</td>\n",
       "    </tr>\n",
       "    <tr>\n",
       "      <td>4</td>\n",
       "      <td>106.979053</td>\n",
       "      <td>-15.874468</td>\n",
       "      <td>-14.861575</td>\n",
       "      <td>3.223808</td>\n",
       "      <td>-0.242000</td>\n",
       "      <td>-0.502284</td>\n",
       "      <td>-1.188403</td>\n",
       "      <td>0.373915</td>\n",
       "      <td>0.660464</td>\n",
       "      <td>1</td>\n",
       "    </tr>\n",
       "  </tbody>\n",
       "</table>\n",
       "</div>"
      ],
      "text/plain": [
       "          PC1        PC2        PC3        PC4       PC5       PC6       PC7  \\\n",
       "0  -12.267345   2.873838  14.969879   6.892940 -0.072468  2.664652  0.268713   \n",
       "1    2.690137 -39.871374   0.877882 -10.583598  2.598773  2.460497 -0.207808   \n",
       "2  -42.950214 -23.636820   1.759446  -7.786655  0.436244  0.296905 -0.437425   \n",
       "3  -10.944756 -28.438036  -7.044180   8.328134  0.076565  0.135460 -0.677191   \n",
       "4  106.979053 -15.874468 -14.861575   3.223808 -0.242000 -0.502284 -1.188403   \n",
       "\n",
       "        PC8       PC9  Cluster  \n",
       "0  1.084704 -0.924199        1  \n",
       "1  0.519390  0.194345        1  \n",
       "2  0.514733 -0.210274        1  \n",
       "3  0.074112  0.431605        1  \n",
       "4  0.373915  0.660464        1  "
      ]
     },
     "execution_count": 33,
     "metadata": {},
     "output_type": "execute_result"
    }
   ],
   "source": [
    "pc_df = pd.DataFrame(data = xpca , \n",
    "        columns = ['PC1', 'PC2','PC3','PC4','PC5', 'PC6','PC7','PC8','PC9'])\n",
    "pc_df['Cluster'] = y\n",
    "pc_df.head()"
   ]
  },
  {
   "cell_type": "code",
   "execution_count": 34,
   "metadata": {},
   "outputs": [
    {
     "data": {
      "text/plain": [
       "array([7.47564199e-01, 1.50370221e-01, 8.45968470e-02, 1.62159604e-02,\n",
       "       3.84085658e-04, 2.81234229e-04, 2.28993383e-04, 9.98328415e-05,\n",
       "       7.72143117e-05])"
      ]
     },
     "execution_count": 34,
     "metadata": {},
     "output_type": "execute_result"
    }
   ],
   "source": [
    "pca.explained_variance_ratio_"
   ]
  },
  {
   "cell_type": "code",
   "execution_count": 35,
   "metadata": {},
   "outputs": [
    {
     "data": {
      "image/png": "[encoded data removed]",
      "text/plain": [
       "<Figure size 1368x576 with 1 Axes>"
      ]
     },
     "metadata": {},
     "output_type": "display_data"
    }
   ],
   "source": [
    "pcadf = pd.DataFrame({'var':pca.explained_variance_ratio_,\n",
    "             'PC':['PC1', 'PC2','PC3','PC4','PC5', 'PC6','PC7','PC8','PC9']})\n",
    "plt.rcParams['figure.figsize'] = (19,8)\n",
    "sns.barplot(x='PC',y=\"var\", \n",
    "           data=pcadf, color=\"c\");"
   ]
  },
  {
   "cell_type": "code",
   "execution_count": 36,
   "metadata": {},
   "outputs": [
    {
     "data": {
      "text/plain": [
       "<seaborn.axisgrid.FacetGrid at 0x2564d046cc8>"
      ]
     },
     "execution_count": 36,
     "metadata": {},
     "output_type": "execute_result"
    },
    {
     "data": {
      "image/png": "[encoded data removed]",
      "text/plain": [
       "<Figure size 405.725x360 with 1 Axes>"
      ]
     },
     "metadata": {},
     "output_type": "display_data"
    }
   ],
   "source": [
    "sns.lmplot( x=\"PC1\", y=\"PC2\",\n",
    "  data=pc_df, \n",
    "  fit_reg=False, \n",
    "  hue='Cluster', # color by cluster\n",
    "  legend=True,\n",
    "  scatter_kws={\"s\": 100}) # specify the point size"
   ]
  },
  {
   "cell_type": "code",
   "execution_count": 37,
   "metadata": {},
   "outputs": [
    {
     "name": "stdout",
     "output_type": "stream",
     "text": [
      "            0          1          2          3         4         5         6  \\\n",
      "0  -12.267345   2.873838  14.969879   6.892940 -0.072468  2.664652  0.268713   \n",
      "1    2.690137 -39.871374   0.877882 -10.583598  2.598773  2.460497 -0.207808   \n",
      "2  -42.950214 -23.636820   1.759446  -7.786655  0.436244  0.296905 -0.437425   \n",
      "3  -10.944756 -28.438036  -7.044180   8.328134  0.076565  0.135460 -0.677191   \n",
      "4  106.979053 -15.874468 -14.861575   3.223808 -0.242000 -0.502284 -1.188403   \n",
      "\n",
      "          7         8  \n",
      "0  1.084704 -0.924199  \n",
      "1  0.519390  0.194345  \n",
      "2  0.514733 -0.210274  \n",
      "3  0.074112  0.431605  \n",
      "4  0.373915  0.660464  \n"
     ]
    }
   ],
   "source": [
    "xpca = pd.DataFrame(pca.fit_transform(x))\n",
    "print(xpca.head())"
   ]
  },
  {
   "cell_type": "code",
   "execution_count": 38,
   "metadata": {},
   "outputs": [],
   "source": [
    "from sklearn.model_selection import train_test_split\n",
    "X_train, X_test, y_train, y_test = train_test_split(\n",
    "xpca, y, test_size=0.2, random_state=164)"
   ]
  },
  {
   "cell_type": "code",
   "execution_count": 39,
   "metadata": {},
   "outputs": [
    {
     "name": "stdout",
     "output_type": "stream",
     "text": [
      "(303, 14)\n",
      "(303, 9)\n"
     ]
    }
   ],
   "source": [
    "#after preprocessing\n",
    "print(rw.shape)\n",
    "print(xpca.shape)"
   ]
  },
  {
   "cell_type": "markdown",
   "metadata": {},
   "source": [
    "## Calculate the accuracy"
   ]
  },
  {
   "cell_type": "code",
   "execution_count": 40,
   "metadata": {},
   "outputs": [
    {
     "data": {
      "text/plain": [
       "0.5081967213114754"
      ]
     },
     "execution_count": 40,
     "metadata": {},
     "output_type": "execute_result"
    }
   ],
   "source": [
    "#KNN\n",
    "\n",
    "from sklearn.neighbors import KNeighborsClassifier\n",
    "knn = KNeighborsClassifier(n_neighbors=56)\n",
    "knn.fit(X_train,y_train)\n",
    "knn.score(X_test,y_test)"
   ]
  },
  {
   "cell_type": "code",
   "execution_count": 41,
   "metadata": {},
   "outputs": [
    {
     "data": {
      "text/plain": [
       "0.9016393442622951"
      ]
     },
     "execution_count": 41,
     "metadata": {},
     "output_type": "execute_result"
    }
   ],
   "source": [
    "#Logistic Regression\n",
    "from sklearn.linear_model import LogisticRegression\n",
    "logre = LogisticRegression(random_state=0, solver='lbfgs',multi_class='multinomial')\n",
    "logre.fit(X_train,y_train)\n",
    "logre.score(X_test,y_test)"
   ]
  },
  {
   "cell_type": "code",
   "execution_count": 42,
   "metadata": {},
   "outputs": [
    {
     "data": {
      "text/plain": [
       "0.5901639344262295"
      ]
     },
     "execution_count": 42,
     "metadata": {},
     "output_type": "execute_result"
    }
   ],
   "source": [
    "#SVM\n",
    "\n",
    "from sklearn import svm\n",
    "sv = svm.SVC(gamma='scale')\n",
    "sv.fit(X_train, y_train)\n",
    "sv.score(X_test, y_test)"
   ]
  },
  {
   "cell_type": "code",
   "execution_count": 43,
   "metadata": {},
   "outputs": [
    {
     "data": {
      "text/plain": [
       "0.3442622950819672"
      ]
     },
     "execution_count": 43,
     "metadata": {},
     "output_type": "execute_result"
    }
   ],
   "source": [
    "#Random forest\n",
    "\n",
    "from sklearn.ensemble import RandomForestClassifier\n",
    "from sklearn.datasets import make_classification\n",
    "\n",
    "X_train, y_train = make_classification(n_samples=1000, n_features=9,n_informative=2, n_redundant=0,\n",
    "random_state=102, shuffle=False)\n",
    "\n",
    "rf = RandomForestClassifier(n_estimators=100, max_depth=2,\n",
    "random_state=0)\n",
    "\n",
    "rf.fit(X_train, y_train)\n",
    "rf.score(X_test, y_test)"
   ]
  },
  {
   "cell_type": "code",
   "execution_count": 44,
   "metadata": {},
   "outputs": [
    {
     "data": {
      "text/plain": [
       "0.4262295081967213"
      ]
     },
     "execution_count": 44,
     "metadata": {},
     "output_type": "execute_result"
    }
   ],
   "source": [
    "#Decession tree\n",
    "\n",
    "from sklearn import tree\n",
    "dest= tree.DecisionTreeClassifier()\n",
    "dest=dest.fit(X_train, y_train)\n",
    "dest.score(X_test, y_test)"
   ]
  },
  {
   "cell_type": "code",
   "execution_count": 45,
   "metadata": {},
   "outputs": [
    {
     "data": {
      "text/plain": [
       "0.36065573770491804"
      ]
     },
     "execution_count": 45,
     "metadata": {},
     "output_type": "execute_result"
    }
   ],
   "source": [
    "#MLP ANN\n",
    "\n",
    "from sklearn.neural_network import MLPClassifier\n",
    "anna = MLPClassifier(solver='lbfgs', alpha=1e-5,\n",
    "hidden_layer_sizes=(5, 2), random_state=94)\n",
    "anna.fit(X_train, y_train)\n",
    "anna.score(X_test, y_test)"
   ]
  },
  {
   "cell_type": "markdown",
   "metadata": {},
   "source": [
    "### The project involved analysis of the heart disease patient dataset with proper data processing.Different models were trained and tested.\n",
    "### We found the largest accuracy in logistic regression algorithm after doing PCA."
   ]
  },
  {
   "cell_type": "code",
   "execution_count": null,
   "metadata": {},
   "outputs": [],
   "source": []
  }
 ],
 "metadata": {
  "kernelspec": {
   "display_name": "Python 3",
   "language": "python",
   "name": "python3"
  },
  "language_info": {
   "codemirror_mode": {
    "name": "ipython",
    "version": 3
   },
   "file_extension": ".py",
   "mimetype": "text/x-python",
   "name": "python",
   "nbconvert_exporter": "python",
   "pygments_lexer": "ipython3",
   "version": "3.7.4"
  }
 },
 "nbformat": 4,
 "nbformat_minor": 2
}
